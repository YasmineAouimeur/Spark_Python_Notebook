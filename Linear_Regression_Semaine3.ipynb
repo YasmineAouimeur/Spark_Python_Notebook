{
    "cells": [
        {
            "cell_type": "code",
            "execution_count": 2,
            "metadata": {},
            "outputs": [],
            "source": "## Use data of a production machine, where each row contains informations about a particular part\n## Ceate a data point\ndp1 = {'partno': 100, 'maxtemp': 35, 'mintemp': 35, 'maxvibration': 12, 'asperity': 0.32}\ndp2 = {'partno': 101, 'maxtemp': 46, 'mintemp': 35, 'maxvibration': 21, 'asperity': 0.34}\ndp3 = {'partno': 130, 'maxtemp': 56, 'mintemp': 46, 'maxvibration': 3412, 'asperity': 12.42}\ndp4 = {'partno': 131, 'maxtemp': 58, 'mintemp': 48, 'maxvibration': 3542, 'asperity': 13.43}"
        },
        {
            "cell_type": "code",
            "execution_count": 3,
            "metadata": {},
            "outputs": [],
            "source": "def predict(dp):\n    if dp['maxvibration']>100:\n        return 13\n    else:\n        return 0.33"
        },
        {
            "cell_type": "code",
            "execution_count": 4,
            "metadata": {},
            "outputs": [
                {
                    "data": {
                        "text/plain": "0.33"
                    },
                    "execution_count": 4,
                    "metadata": {},
                    "output_type": "execute_result"
                }
            ],
            "source": "predict(dp1)\n#predict(dp2)\n#predict(dp3)\n#predict(dp4)"
        },
        {
            "cell_type": "code",
            "execution_count": 5,
            "metadata": {},
            "outputs": [],
            "source": "## Liear regression is to create a linear relationship between filds by using fild numbers and a rate 'W' \nw1 = 0.33\nw2 = 0\nw3 = 0\nw4 = 13/3412\n\ndef mlPredict(dp):\n    return w1+w2*dp['maxtemp']+w3*dp['mintemp']+w4*dp['maxvibration']"
        },
        {
            "cell_type": "code",
            "execution_count": 6,
            "metadata": {},
            "outputs": [
                {
                    "data": {
                        "text/plain": "13.825310668229777"
                    },
                    "execution_count": 6,
                    "metadata": {},
                    "output_type": "execute_result"
                }
            ],
            "source": "mlPredict(dp4)"
        },
        {
            "cell_type": "code",
            "execution_count": 7,
            "metadata": {},
            "outputs": [
                {
                    "name": "stdout",
                    "output_type": "stream",
                    "text": "+---+---+---+-----------+--------------------+\n|  x|  y|  z|      class|              source|\n+---+---+---+-----------+--------------------+\n| 22| 49| 35|Brush_teeth|Accelerometer-201...|\n| 22| 49| 35|Brush_teeth|Accelerometer-201...|\n| 22| 52| 35|Brush_teeth|Accelerometer-201...|\n| 22| 52| 35|Brush_teeth|Accelerometer-201...|\n| 21| 52| 34|Brush_teeth|Accelerometer-201...|\n| 22| 51| 34|Brush_teeth|Accelerometer-201...|\n| 20| 50| 35|Brush_teeth|Accelerometer-201...|\n| 22| 52| 34|Brush_teeth|Accelerometer-201...|\n| 22| 50| 34|Brush_teeth|Accelerometer-201...|\n| 22| 51| 35|Brush_teeth|Accelerometer-201...|\n| 21| 51| 33|Brush_teeth|Accelerometer-201...|\n| 20| 50| 34|Brush_teeth|Accelerometer-201...|\n| 21| 49| 33|Brush_teeth|Accelerometer-201...|\n| 21| 49| 33|Brush_teeth|Accelerometer-201...|\n| 20| 51| 35|Brush_teeth|Accelerometer-201...|\n| 18| 49| 34|Brush_teeth|Accelerometer-201...|\n| 19| 48| 34|Brush_teeth|Accelerometer-201...|\n| 16| 53| 34|Brush_teeth|Accelerometer-201...|\n| 18| 52| 35|Brush_teeth|Accelerometer-201...|\n| 18| 51| 32|Brush_teeth|Accelerometer-201...|\n+---+---+---+-----------+--------------------+\nonly showing top 20 rows\n\n"
                }
            ],
            "source": "# The code was removed by Watson Studio for sharing."
        },
        {
            "cell_type": "code",
            "execution_count": 8,
            "metadata": {},
            "outputs": [],
            "source": "df.createOrReplaceTempView('df')\n\ndf_energy = spark.sql(\"\"\"\n    select sqrt(sum(x*x)+sum(y*y)+sum(z*z)) as label, class from df group by class\n\"\"\")\n\ndf_energy.createOrReplaceTempView('df_energy')"
        },
        {
            "cell_type": "code",
            "execution_count": 9,
            "metadata": {},
            "outputs": [],
            "source": "df_join = spark.sql(\"\"\"\n    select * from df inner join df_energy on df.class=df_energy.class\n\"\"\")"
        },
        {
            "cell_type": "code",
            "execution_count": 10,
            "metadata": {},
            "outputs": [
                {
                    "name": "stdout",
                    "output_type": "stream",
                    "text": "+---+---+---+-----------+--------------------+-----------------+-----------+\n|  x|  y|  z|      class|              source|            label|      class|\n+---+---+---+-----------+--------------------+-----------------+-----------+\n| 22| 49| 35|Brush_teeth|Accelerometer-201...|11785.39634462923|Brush_teeth|\n| 22| 49| 35|Brush_teeth|Accelerometer-201...|11785.39634462923|Brush_teeth|\n| 22| 52| 35|Brush_teeth|Accelerometer-201...|11785.39634462923|Brush_teeth|\n| 22| 52| 35|Brush_teeth|Accelerometer-201...|11785.39634462923|Brush_teeth|\n| 21| 52| 34|Brush_teeth|Accelerometer-201...|11785.39634462923|Brush_teeth|\n| 22| 51| 34|Brush_teeth|Accelerometer-201...|11785.39634462923|Brush_teeth|\n| 20| 50| 35|Brush_teeth|Accelerometer-201...|11785.39634462923|Brush_teeth|\n| 22| 52| 34|Brush_teeth|Accelerometer-201...|11785.39634462923|Brush_teeth|\n| 22| 50| 34|Brush_teeth|Accelerometer-201...|11785.39634462923|Brush_teeth|\n| 22| 51| 35|Brush_teeth|Accelerometer-201...|11785.39634462923|Brush_teeth|\n| 21| 51| 33|Brush_teeth|Accelerometer-201...|11785.39634462923|Brush_teeth|\n| 20| 50| 34|Brush_teeth|Accelerometer-201...|11785.39634462923|Brush_teeth|\n| 21| 49| 33|Brush_teeth|Accelerometer-201...|11785.39634462923|Brush_teeth|\n| 21| 49| 33|Brush_teeth|Accelerometer-201...|11785.39634462923|Brush_teeth|\n| 20| 51| 35|Brush_teeth|Accelerometer-201...|11785.39634462923|Brush_teeth|\n| 18| 49| 34|Brush_teeth|Accelerometer-201...|11785.39634462923|Brush_teeth|\n| 19| 48| 34|Brush_teeth|Accelerometer-201...|11785.39634462923|Brush_teeth|\n| 16| 53| 34|Brush_teeth|Accelerometer-201...|11785.39634462923|Brush_teeth|\n| 18| 52| 35|Brush_teeth|Accelerometer-201...|11785.39634462923|Brush_teeth|\n| 18| 51| 32|Brush_teeth|Accelerometer-201...|11785.39634462923|Brush_teeth|\n+---+---+---+-----------+--------------------+-----------------+-----------+\nonly showing top 20 rows\n\n"
                }
            ],
            "source": "df_join.show()"
        },
        {
            "cell_type": "code",
            "execution_count": 11,
            "metadata": {},
            "outputs": [],
            "source": "from pyspark.ml.feature import VectorAssembler, Normalizer\nfrom pyspark.ml.linalg import Vectors\n\nvectorAssembler = VectorAssembler(inputCols=[\"x\",\"y\",\"z\"],outputCol=\"features\")\nnormalizer = Normalizer(inputCol=\"features\", outputCol=\"features_norm\", p=1.0)"
        },
        {
            "cell_type": "code",
            "execution_count": 12,
            "metadata": {},
            "outputs": [],
            "source": "from pyspark.ml.regression import LinearRegression"
        },
        {
            "cell_type": "code",
            "execution_count": 13,
            "metadata": {},
            "outputs": [],
            "source": "Lr = LinearRegression(maxIter=10, regParam=0.3, elasticNetParam=0.8)"
        },
        {
            "cell_type": "code",
            "execution_count": 14,
            "metadata": {},
            "outputs": [],
            "source": "from pyspark.ml import Pipeline\n\npipeline = Pipeline(stages =[vectorAssembler, normalizer, Lr])\n\nmodel = pipeline.fit(df_join)\n"
        },
        {
            "cell_type": "code",
            "execution_count": 24,
            "metadata": {},
            "outputs": [
                {
                    "data": {
                        "text/plain": "0.09123304798488863"
                    },
                    "execution_count": 24,
                    "metadata": {},
                    "output_type": "execute_result"
                }
            ],
            "source": "prediction = model.transform(df_join)\nmodel.stages[2].summary.r2"
        },
        {
            "cell_type": "code",
            "execution_count": 20,
            "metadata": {},
            "outputs": [
                {
                    "name": "stdout",
                    "output_type": "stream",
                    "text": "+---+---+---+-----------+--------------------+-----------------+-----------+----------------+--------------------+------------------+\n|  x|  y|  z|      class|              source|            label|      class|        features|       features_norm|        prediction|\n+---+---+---+-----------+--------------------+-----------------+-----------+----------------+--------------------+------------------+\n| 22| 49| 35|Brush_teeth|Accelerometer-201...|11785.39634462923|Brush_teeth|[22.0,49.0,35.0]|[0.20754716981132...|11102.707575524197|\n| 22| 49| 35|Brush_teeth|Accelerometer-201...|11785.39634462923|Brush_teeth|[22.0,49.0,35.0]|[0.20754716981132...|11102.707575524197|\n| 22| 52| 35|Brush_teeth|Accelerometer-201...|11785.39634462923|Brush_teeth|[22.0,52.0,35.0]|[0.20183486238532...|11122.581426949906|\n| 22| 52| 35|Brush_teeth|Accelerometer-201...|11785.39634462923|Brush_teeth|[22.0,52.0,35.0]|[0.20183486238532...|11122.581426949906|\n| 21| 52| 34|Brush_teeth|Accelerometer-201...|11785.39634462923|Brush_teeth|[21.0,52.0,34.0]|[0.19626168224299...|11032.750329970124|\n| 22| 51| 34|Brush_teeth|Accelerometer-201...|11785.39634462923|Brush_teeth|[22.0,51.0,34.0]|[0.20560747663551...|11044.501121350426|\n| 20| 50| 35|Brush_teeth|Accelerometer-201...|11785.39634462923|Brush_teeth|[20.0,50.0,35.0]|[0.19047619047619...| 11072.58137562169|\n| 22| 52| 34|Brush_teeth|Accelerometer-201...|11785.39634462923|Brush_teeth|[22.0,52.0,34.0]|[0.20370370370370...|11051.125738492328|\n| 22| 50| 34|Brush_teeth|Accelerometer-201...|11785.39634462923|Brush_teeth|[22.0,50.0,34.0]|[0.20754716981132...|11037.876504208522|\n| 22| 51| 35|Brush_teeth|Accelerometer-201...|11785.39634462923|Brush_teeth|[22.0,51.0,35.0]|[0.20370370370370...|11115.956809808004|\n| 21| 51| 33|Brush_teeth|Accelerometer-201...|11785.39634462923|Brush_teeth|[21.0,51.0,33.0]|[0.2,0.4857142857...|10954.670024370644|\n| 20| 50| 34|Brush_teeth|Accelerometer-201...|11785.39634462923|Brush_teeth|[20.0,50.0,34.0]|[0.19230769230769...|11001.125687164113|\n| 21| 49| 33|Brush_teeth|Accelerometer-201...|11785.39634462923|Brush_teeth|[21.0,49.0,33.0]|[0.20388349514563...|10941.420790086837|\n| 21| 49| 33|Brush_teeth|Accelerometer-201...|11785.39634462923|Brush_teeth|[21.0,49.0,33.0]|[0.20388349514563...|10941.420790086837|\n| 20| 51| 35|Brush_teeth|Accelerometer-201...|11785.39634462923|Brush_teeth|[20.0,51.0,35.0]|[0.18867924528301...|11079.205992763593|\n| 18| 49| 34|Brush_teeth|Accelerometer-201...|11785.39634462923|Brush_teeth|[18.0,49.0,34.0]|[0.17821782178217...|  10957.7502529778|\n| 19| 48| 34|Brush_teeth|Accelerometer-201...|11785.39634462923|Brush_teeth|[19.0,48.0,34.0]|[0.18811881188118...|10969.501044358101|\n| 16| 53| 34|Brush_teeth|Accelerometer-201...|11785.39634462923|Brush_teeth|[16.0,53.0,34.0]|[0.15533980582524...|   10947.497904501|\n| 18| 52| 35|Brush_teeth|Accelerometer-201...|11785.39634462923|Brush_teeth|[18.0,52.0,35.0]|[0.17142857142857...|11049.079792861085|\n| 18| 51| 32|Brush_teeth|Accelerometer-201...|11785.39634462923|Brush_teeth|[18.0,51.0,32.0]|[0.17821782178217...|10828.088110346449|\n+---+---+---+-----------+--------------------+-----------------+-----------+----------------+--------------------+------------------+\nonly showing top 20 rows\n\n"
                }
            ],
            "source": "prediction.show()"
        },
        {
            "cell_type": "code",
            "execution_count": null,
            "metadata": {},
            "outputs": [],
            "source": ""
        }
    ],
    "metadata": {
        "kernelspec": {
            "display_name": "Python 3.6 with Spark",
            "language": "python3",
            "name": "python36"
        },
        "language_info": {
            "codemirror_mode": {
                "name": "ipython",
                "version": 3
            },
            "file_extension": ".py",
            "mimetype": "text/x-python",
            "name": "python",
            "nbconvert_exporter": "python",
            "pygments_lexer": "ipython3",
            "version": "3.6.8"
        }
    },
    "nbformat": 4,
    "nbformat_minor": 1
}